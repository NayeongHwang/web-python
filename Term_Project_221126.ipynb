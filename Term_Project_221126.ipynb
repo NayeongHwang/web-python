{
 "cells": [
  {
   "cell_type": "markdown",
   "metadata": {},
   "source": [
    "# Term Project"
   ]
  },
  {
   "cell_type": "code",
   "execution_count": 1,
   "metadata": {},
   "outputs": [],
   "source": [
    "#data\n",
    "from urllib.request import urlopen\n",
    "url = \"https://cdaw.gsfc.nasa.gov/CME_list/\""
   ]
  },
  {
   "cell_type": "code",
   "execution_count": 2,
   "metadata": {},
   "outputs": [
    {
     "data": {
      "text/plain": [
       "<http.client.HTTPResponse at 0x214cde551f0>"
      ]
     },
     "execution_count": 2,
     "metadata": {},
     "output_type": "execute_result"
    }
   ],
   "source": [
    "page = urlopen(url)\n",
    "page"
   ]
  },
  {
   "cell_type": "code",
   "execution_count": 3,
   "metadata": {},
   "outputs": [
    {
     "data": {
      "text/plain": [
       "'html_bytes = page.read()\\nhtml = html_bytes.decode(\"utf-8\")\\nlinks = profiles_page.soup.select(\"a\")\\nprint(html)\\n#이중 for문으로 formatting 이용해서 사이트 + html해서 크롤링하면 될 듯\\n'"
      ]
     },
     "execution_count": 3,
     "metadata": {},
     "output_type": "execute_result"
    }
   ],
   "source": [
    "\"\"\"html_bytes = page.read()\n",
    "html = html_bytes.decode(\"utf-8\")\n",
    "links = profiles_page.soup.select(\"a\")\n",
    "print(html)\n",
    "#이중 for문으로 formatting 이용해서 사이트 + html해서 크롤링\n",
    "\"\"\""
   ]
  },
  {
   "cell_type": "code",
   "execution_count": 4,
   "metadata": {},
   "outputs": [
    {
     "data": {
      "text/plain": [
       "'\\nimport mechanicalsoup\\nbrowser = mechanicalsoup.Browser()\\nurl = \"https://cdaw.gsfc.nasa.gov/CME_list/\"\\npage = browser.get(url)\\npage\\ntype(page.soup)\\npage.soup\\n\\nlinks = page.soup.select(\"td\")\\n'"
      ]
     },
     "execution_count": 4,
     "metadata": {},
     "output_type": "execute_result"
    }
   ],
   "source": [
    "\"\"\"\n",
    "import mechanicalsoup\n",
    "browser = mechanicalsoup.Browser()\n",
    "url = \"https://cdaw.gsfc.nasa.gov/CME_list/\"\n",
    "page = browser.get(url)\n",
    "page\n",
    "type(page.soup)\n",
    "page.soup\n",
    "\n",
    "links = page.soup.select(\"td\")\n",
    "\"\"\""
   ]
  },
  {
   "cell_type": "code",
   "execution_count": 5,
   "metadata": {},
   "outputs": [
    {
     "name": "stdout",
     "output_type": "stream",
     "text": [
      "['UNIVERSAL/1996_01/univ1996_01.html', 'UNIVERSAL/1996_02/univ1996_02.html', 'UNIVERSAL/1996_03/univ1996_03.html', 'UNIVERSAL/1996_04/univ1996_04.html', 'UNIVERSAL/1996_05/univ1996_05.html', 'UNIVERSAL/1996_06/univ1996_06.html', 'UNIVERSAL/1996_07/univ1996_07.html', 'UNIVERSAL/1996_08/univ1996_08.html', 'UNIVERSAL/1996_09/univ1996_09.html', 'UNIVERSAL/1996_10/univ1996_10.html', 'UNIVERSAL/1996_11/univ1996_11.html', 'UNIVERSAL/1996_12/univ1996_12.html', 'UNIVERSAL/1997_01/univ1997_01.html', 'UNIVERSAL/1997_02/univ1997_02.html', 'UNIVERSAL/1997_03/univ1997_03.html', 'UNIVERSAL/1997_04/univ1997_04.html', 'UNIVERSAL/1997_05/univ1997_05.html', 'UNIVERSAL/1997_06/univ1997_06.html', 'UNIVERSAL/1997_07/univ1997_07.html', 'UNIVERSAL/1997_08/univ1997_08.html', 'UNIVERSAL/1997_09/univ1997_09.html', 'UNIVERSAL/1997_10/univ1997_10.html', 'UNIVERSAL/1997_11/univ1997_11.html', 'UNIVERSAL/1997_12/univ1997_12.html', 'UNIVERSAL/1998_01/univ1998_01.html', 'UNIVERSAL/1998_02/univ1998_02.html', 'UNIVERSAL/1998_03/univ1998_03.html', 'UNIVERSAL/1998_04/univ1998_04.html', 'UNIVERSAL/1998_05/univ1998_05.html', 'UNIVERSAL/1998_06/univ1998_06.html', 'UNIVERSAL/1998_10/univ1998_10.html', 'UNIVERSAL/1998_11/univ1998_11.html', 'UNIVERSAL/1998_12/univ1998_12.html', 'UNIVERSAL/1999_02/univ1999_02.html', 'UNIVERSAL/1999_03/univ1999_03.html', 'UNIVERSAL/1999_04/univ1999_04.html', 'UNIVERSAL/1999_05/univ1999_05.html', 'UNIVERSAL/1999_06/univ1999_06.html', 'UNIVERSAL/1999_07/univ1999_07.html', 'UNIVERSAL/1999_08/univ1999_08.html', 'UNIVERSAL/1999_09/univ1999_09.html', 'UNIVERSAL/1999_10/univ1999_10.html', 'UNIVERSAL/1999_11/univ1999_11.html', 'UNIVERSAL/1999_12/univ1999_12.html', 'UNIVERSAL/2000_01/univ2000_01.html', 'UNIVERSAL/2000_02/univ2000_02.html', 'UNIVERSAL/2000_03/univ2000_03.html', 'UNIVERSAL/2000_04/univ2000_04.html', 'UNIVERSAL/2000_05/univ2000_05.html', 'UNIVERSAL/2000_06/univ2000_06.html', 'UNIVERSAL/2000_07/univ2000_07.html', 'UNIVERSAL/2000_08/univ2000_08.html', 'UNIVERSAL/2000_09/univ2000_09.html', 'UNIVERSAL/2000_10/univ2000_10.html', 'UNIVERSAL/2000_11/univ2000_11.html', 'UNIVERSAL/2000_12/univ2000_12.html', 'UNIVERSAL/2001_01/univ2001_01.html', 'UNIVERSAL/2001_02/univ2001_02.html', 'UNIVERSAL/2001_03/univ2001_03.html', 'UNIVERSAL/2001_04/univ2001_04.html', 'UNIVERSAL/2001_05/univ2001_05.html', 'UNIVERSAL/2001_06/univ2001_06.html', 'UNIVERSAL/2001_07/univ2001_07.html', 'UNIVERSAL/2001_08/univ2001_08.html', 'UNIVERSAL/2001_09/univ2001_09.html', 'UNIVERSAL/2001_10/univ2001_10.html', 'UNIVERSAL/2001_11/univ2001_11.html', 'UNIVERSAL/2001_12/univ2001_12.html', 'UNIVERSAL/2002_01/univ2002_01.html', 'UNIVERSAL/2002_02/univ2002_02.html', 'UNIVERSAL/2002_03/univ2002_03.html', 'UNIVERSAL/2002_04/univ2002_04.html', 'UNIVERSAL/2002_05/univ2002_05.html', 'UNIVERSAL/2002_06/univ2002_06.html', 'UNIVERSAL/2002_07/univ2002_07.html', 'UNIVERSAL/2002_08/univ2002_08.html', 'UNIVERSAL/2002_09/univ2002_09.html', 'UNIVERSAL/2002_10/univ2002_10.html', 'UNIVERSAL/2002_11/univ2002_11.html', 'UNIVERSAL/2002_12/univ2002_12.html', 'UNIVERSAL/2003_01/univ2003_01.html', 'UNIVERSAL/2003_02/univ2003_02.html', 'UNIVERSAL/2003_03/univ2003_03.html', 'UNIVERSAL/2003_04/univ2003_04.html', 'UNIVERSAL/2003_05/univ2003_05.html', 'UNIVERSAL/2003_06/univ2003_06.html', 'UNIVERSAL/2003_07/univ2003_07.html', 'UNIVERSAL/2003_08/univ2003_08.html', 'UNIVERSAL/2003_09/univ2003_09.html', 'UNIVERSAL/2003_10/univ2003_10.html', 'UNIVERSAL/2003_11/univ2003_11.html', 'UNIVERSAL/2003_12/univ2003_12.html', 'UNIVERSAL/2004_01/univ2004_01.html', 'UNIVERSAL/2004_02/univ2004_02.html', 'UNIVERSAL/2004_03/univ2004_03.html', 'UNIVERSAL/2004_04/univ2004_04.html', 'UNIVERSAL/2004_05/univ2004_05.html', 'UNIVERSAL/2004_06/univ2004_06.html', 'UNIVERSAL/2004_07/univ2004_07.html', 'UNIVERSAL/2004_08/univ2004_08.html', 'UNIVERSAL/2004_09/univ2004_09.html', 'UNIVERSAL/2004_10/univ2004_10.html', 'UNIVERSAL/2004_11/univ2004_11.html', 'UNIVERSAL/2004_12/univ2004_12.html', 'UNIVERSAL/2005_01/univ2005_01.html', 'UNIVERSAL/2005_02/univ2005_02.html', 'UNIVERSAL/2005_03/univ2005_03.html', 'UNIVERSAL/2005_04/univ2005_04.html', 'UNIVERSAL/2005_05/univ2005_05.html', 'UNIVERSAL/2005_06/univ2005_06.html', 'UNIVERSAL/2005_07/univ2005_07.html', 'UNIVERSAL/2005_08/univ2005_08.html', 'UNIVERSAL/2005_09/univ2005_09.html', 'UNIVERSAL/2005_10/univ2005_10.html', 'UNIVERSAL/2005_11/univ2005_11.html', 'UNIVERSAL/2005_12/univ2005_12.html', 'UNIVERSAL/2006_01/univ2006_01.html', 'UNIVERSAL/2006_02/univ2006_02.html', 'UNIVERSAL/2006_03/univ2006_03.html', 'UNIVERSAL/2006_04/univ2006_04.html', 'UNIVERSAL/2006_05/univ2006_05.html', 'UNIVERSAL/2006_06/univ2006_06.html', 'UNIVERSAL/2006_07/univ2006_07.html', 'UNIVERSAL/2006_08/univ2006_08.html', 'UNIVERSAL/2006_09/univ2006_09.html', 'UNIVERSAL/2006_10/univ2006_10.html', 'UNIVERSAL/2006_11/univ2006_11.html', 'UNIVERSAL/2006_12/univ2006_12.html', 'UNIVERSAL/2007_01/univ2007_01.html', 'UNIVERSAL/2007_02/univ2007_02.html', 'UNIVERSAL/2007_03/univ2007_03.html', 'UNIVERSAL/2007_04/univ2007_04.html', 'UNIVERSAL/2007_05/univ2007_05.html', 'UNIVERSAL/2007_06/univ2007_06.html', 'UNIVERSAL/2007_07/univ2007_07.html', 'UNIVERSAL/2007_08/univ2007_08.html', 'UNIVERSAL/2007_09/univ2007_09.html', 'UNIVERSAL/2007_10/univ2007_10.html', 'UNIVERSAL/2007_11/univ2007_11.html', 'UNIVERSAL/2007_12/univ2007_12.html', 'UNIVERSAL/2008_01/univ2008_01.html', 'UNIVERSAL/2008_02/univ2008_02.html', 'UNIVERSAL/2008_03/univ2008_03.html', 'UNIVERSAL/2008_04/univ2008_04.html', 'UNIVERSAL/2008_05/univ2008_05.html', 'UNIVERSAL/2008_06/univ2008_06.html', 'UNIVERSAL/2008_07/univ2008_07.html', 'UNIVERSAL/2008_08/univ2008_08.html', 'UNIVERSAL/2008_09/univ2008_09.html', 'UNIVERSAL/2008_10/univ2008_10.html', 'UNIVERSAL/2008_11/univ2008_11.html', 'UNIVERSAL/2008_12/univ2008_12.html', 'UNIVERSAL/2009_01/univ2009_01.html', 'UNIVERSAL/2009_02/univ2009_02.html', 'UNIVERSAL/2009_03/univ2009_03.html', 'UNIVERSAL/2009_04/univ2009_04.html', 'UNIVERSAL/2009_05/univ2009_05.html', 'UNIVERSAL/2009_06/univ2009_06.html', 'UNIVERSAL/2009_07/univ2009_07.html', 'UNIVERSAL/2009_08/univ2009_08.html', 'UNIVERSAL/2009_09/univ2009_09.html', 'UNIVERSAL/2009_10/univ2009_10.html', 'UNIVERSAL/2009_11/univ2009_11.html', 'UNIVERSAL/2009_12/univ2009_12.html', 'UNIVERSAL/2010_01/univ2010_01.html', 'UNIVERSAL/2010_02/univ2010_02.html', 'UNIVERSAL/2010_03/univ2010_03.html', 'UNIVERSAL/2010_04/univ2010_04.html', 'UNIVERSAL/2010_05/univ2010_05.html', 'UNIVERSAL/2010_06/univ2010_06.html', 'UNIVERSAL/2010_07/univ2010_07.html', 'UNIVERSAL/2010_08/univ2010_08.html', 'UNIVERSAL/2010_09/univ2010_09.html', 'UNIVERSAL/2010_10/univ2010_10.html', 'UNIVERSAL/2010_11/univ2010_11.html', 'UNIVERSAL/2010_12/univ2010_12.html', 'UNIVERSAL/2011_01/univ2011_01.html', 'UNIVERSAL/2011_02/univ2011_02.html', 'UNIVERSAL/2011_03/univ2011_03.html', 'UNIVERSAL/2011_04/univ2011_04.html', 'UNIVERSAL/2011_05/univ2011_05.html', 'UNIVERSAL/2011_06/univ2011_06.html', 'UNIVERSAL/2011_07/univ2011_07.html', 'UNIVERSAL/2011_08/univ2011_08.html', 'UNIVERSAL/2011_09/univ2011_09.html', 'UNIVERSAL/2011_10/univ2011_10.html', 'UNIVERSAL/2011_11/univ2011_11.html', 'UNIVERSAL/2011_12/univ2011_12.html', 'UNIVERSAL/2012_01/univ2012_01.html', 'UNIVERSAL/2012_02/univ2012_02.html', 'UNIVERSAL/2012_03/univ2012_03.html', 'UNIVERSAL/2012_04/univ2012_04.html', 'UNIVERSAL/2012_05/univ2012_05.html', 'UNIVERSAL/2012_06/univ2012_06.html', 'UNIVERSAL/2012_07/univ2012_07.html', 'UNIVERSAL/2012_08/univ2012_08.html', 'UNIVERSAL/2012_09/univ2012_09.html', 'UNIVERSAL/2012_10/univ2012_10.html', 'UNIVERSAL/2012_11/univ2012_11.html', 'UNIVERSAL/2012_12/univ2012_12.html', 'UNIVERSAL/2013_01/univ2013_01.html', 'UNIVERSAL/2013_02/univ2013_02.html', 'UNIVERSAL/2013_03/univ2013_03.html', 'UNIVERSAL/2013_04/univ2013_04.html', 'UNIVERSAL/2013_05/univ2013_05.html', 'UNIVERSAL/2013_06/univ2013_06.html', 'UNIVERSAL/2013_07/univ2013_07.html', 'UNIVERSAL/2013_08/univ2013_08.html', 'UNIVERSAL/2013_09/univ2013_09.html', 'UNIVERSAL/2013_10/univ2013_10.html', 'UNIVERSAL/2013_11/univ2013_11.html', 'UNIVERSAL/2013_12/univ2013_12.html', 'UNIVERSAL/2014_01/univ2014_01.html', 'UNIVERSAL/2014_02/univ2014_02.html', 'UNIVERSAL/2014_03/univ2014_03.html', 'UNIVERSAL/2014_04/univ2014_04.html', 'UNIVERSAL/2014_05/univ2014_05.html', 'UNIVERSAL/2014_06/univ2014_06.html', 'UNIVERSAL/2014_07/univ2014_07.html', 'UNIVERSAL/2014_08/univ2014_08.html', 'UNIVERSAL/2014_09/univ2014_09.html', 'UNIVERSAL/2014_10/univ2014_10.html', 'UNIVERSAL/2014_11/univ2014_11.html', 'UNIVERSAL/2014_12/univ2014_12.html', 'UNIVERSAL/2015_01/univ2015_01.html', 'UNIVERSAL/2015_02/univ2015_02.html', 'UNIVERSAL/2015_03/univ2015_03.html', 'UNIVERSAL/2015_04/univ2015_04.html', 'UNIVERSAL/2015_05/univ2015_05.html', 'UNIVERSAL/2015_06/univ2015_06.html', 'UNIVERSAL/2015_07/univ2015_07.html', 'UNIVERSAL/2015_08/univ2015_08.html', 'UNIVERSAL/2015_09/univ2015_09.html', 'UNIVERSAL/2015_10/univ2015_10.html', 'UNIVERSAL/2015_11/univ2015_11.html', 'UNIVERSAL/2015_12/univ2015_12.html', 'UNIVERSAL/2016_01/univ2016_01.html', 'UNIVERSAL/2016_02/univ2016_02.html', 'UNIVERSAL/2016_03/univ2016_03.html', 'UNIVERSAL/2016_04/univ2016_04.html', 'UNIVERSAL/2016_05/univ2016_05.html', 'UNIVERSAL/2016_06/univ2016_06.html', 'UNIVERSAL/2016_07/univ2016_07.html', 'UNIVERSAL/2016_08/univ2016_08.html', 'UNIVERSAL/2016_09/univ2016_09.html', 'UNIVERSAL/2016_10/univ2016_10.html', 'UNIVERSAL/2016_11/univ2016_11.html', 'UNIVERSAL/2016_12/univ2016_12.html', 'UNIVERSAL/2017_01/univ2017_01.html', 'UNIVERSAL/2017_02/univ2017_02.html', 'UNIVERSAL/2017_03/univ2017_03.html', 'UNIVERSAL/2017_04/univ2017_04.html', 'UNIVERSAL/2017_05/univ2017_05.html', 'UNIVERSAL/2017_06/univ2017_06.html', 'UNIVERSAL/2017_07/univ2017_07.html', 'UNIVERSAL/2017_08/univ2017_08.html', 'UNIVERSAL/2017_09/univ2017_09.html', 'UNIVERSAL/2017_10/univ2017_10.html', 'UNIVERSAL/2017_11/univ2017_11.html', 'UNIVERSAL/2017_12/univ2017_12.html', 'UNIVERSAL/2018_01/univ2018_01.html', 'UNIVERSAL/2018_02/univ2018_02.html', 'UNIVERSAL/2018_03/univ2018_03.html', 'UNIVERSAL/2018_04/univ2018_04.html', 'UNIVERSAL/2018_05/univ2018_05.html', 'UNIVERSAL/2018_06/univ2018_06.html', 'UNIVERSAL/2018_07/univ2018_07.html', 'UNIVERSAL/2018_08/univ2018_08.html', 'UNIVERSAL/2018_09/univ2018_09.html', 'UNIVERSAL/2018_10/univ2018_10.html', 'UNIVERSAL/2018_11/univ2018_11.html', 'UNIVERSAL/2018_12/univ2018_12.html', 'UNIVERSAL/2019_01/univ2019_01.html', 'UNIVERSAL/2019_02/univ2019_02.html', 'UNIVERSAL/2019_03/univ2019_03.html', 'UNIVERSAL/2019_04/univ2019_04.html', 'UNIVERSAL/2019_05/univ2019_05.html', 'UNIVERSAL/2019_06/univ2019_06.html', 'UNIVERSAL/2019_07/univ2019_07.html', 'UNIVERSAL/2019_08/univ2019_08.html', 'UNIVERSAL/2019_09/univ2019_09.html', 'UNIVERSAL/2019_10/univ2019_10.html', 'UNIVERSAL/2019_11/univ2019_11.html', 'UNIVERSAL/2019_12/univ2019_12.html', 'UNIVERSAL/2020_01/univ2020_01.html', 'UNIVERSAL/2020_02/univ2020_02.html', 'UNIVERSAL/2020_03/univ2020_03.html', 'UNIVERSAL/2020_04/univ2020_04.html', 'UNIVERSAL/2020_05/univ2020_05.html', 'UNIVERSAL/2020_06/univ2020_06.html', 'UNIVERSAL/2020_07/univ2020_07.html', 'UNIVERSAL/2020_08/univ2020_08.html', 'UNIVERSAL/2020_09/univ2020_09.html', 'UNIVERSAL/2020_10/univ2020_10.html', 'UNIVERSAL/2020_11/univ2020_11.html', 'UNIVERSAL/2020_12/univ2020_12.html', 'UNIVERSAL/2021_01/univ2021_01.html', 'UNIVERSAL/2021_02/univ2021_02.html', 'UNIVERSAL/2021_03/univ2021_03.html', 'UNIVERSAL/2021_04/univ2021_04.html', 'UNIVERSAL/2021_05/univ2021_05.html', 'UNIVERSAL/2021_06/univ2021_06.html', 'UNIVERSAL/2021_07/univ2021_07.html', 'UNIVERSAL/2021_08/univ2021_08.html', 'UNIVERSAL/2021_09/univ2021_09.html', 'UNIVERSAL/2021_10/univ2021_10.html', 'UNIVERSAL/2021_11/univ2021_11.html', 'UNIVERSAL/2021_12/univ2021_12.html', 'UNIVERSAL/2022_01/univ2022_01.html', 'UNIVERSAL/2022_02/univ2022_02.html', 'UNIVERSAL/2022_03/univ2022_03.html', 'UNIVERSAL/2022_04/univ2022_04.html']\n"
     ]
    }
   ],
   "source": [
    "import urllib.request\n",
    "from bs4 import BeautifulSoup\n",
    " \n",
    "url = \"https://cdaw.gsfc.nasa.gov/CME_list/\"\n",
    "req = urllib.request.Request(url)\n",
    "sourcecode = urllib.request.urlopen(url).read()\n",
    "soup = BeautifulSoup(sourcecode, \"html.parser\")\n",
    "list1 = []\n",
    "for href in soup.find_all(\"td\"):\n",
    "    try:\n",
    "        list1.append(href.find(\"a\")[\"href\"])\n",
    "    except TypeError:\n",
    "        continue\n",
    "print(list1)"
   ]
  },
  {
   "cell_type": "code",
   "execution_count": 6,
   "metadata": {},
   "outputs": [],
   "source": [
    "for i in range(len(list1)):\n",
    "    list1[i] = url + list1[i]\n",
    "import mechanicalsoup\n",
    "browser = mechanicalsoup.Browser()"
   ]
  },
  {
   "cell_type": "code",
   "execution_count": 14,
   "metadata": {
    "scrolled": true
   },
   "outputs": [
    {
     "name": "stdout",
     "output_type": "stream",
     "text": [
      "[<td headers=\"hd_date_time\">\n",
      "<a href=\"jsmovies/1996_01/19960111.001436.p272s/c2_rdif.html\" title=\"view Java Movie\">\n",
      "1996/01/11\n",
      "</a>\n",
      "</td>, <td headers=\"hd_date_time\">\n",
      "<a href=\"yht/19960111.001436.w018n.v0499.p272s.yht\" title=\"see height-time digital file\">\n",
      "00:14:36\n",
      "</a>\n",
      "</td>, <td headers=\"hd_date_time\">\n",
      "<a href=\"jsmovies/1996_01/19960113.220830.p266s/c2_rdif.html\" title=\"view Java Movie\">\n",
      "1996/01/13\n",
      "</a>\n",
      "</td>, <td headers=\"hd_date_time\">\n",
      "<a href=\"yht/19960113.220830.w016n.v0290.p266s.yht\" title=\"see height-time digital file\">\n",
      "22:08:30\n",
      "</a>\n",
      "</td>, <td headers=\"hd_date_time\">\n",
      "<a href=\"jsmovies/1996_01/19960115.070110.p272s/c2_rdif.html\" title=\"view Java Movie\">\n",
      "1996/01/15\n",
      "</a>\n",
      "</td>, <td headers=\"hd_date_time\">\n",
      "<a href=\"yht/19960115.070110.w043n.v0525.p272s.yht\" title=\"see height-time digital file\">\n",
      "07:01:10\n",
      "</a>\n",
      "</td>, <td headers=\"hd_date_time\">\n",
      "<a href=\"jsmovies/1996_01/19960122.031101.p103g/c2_rdif.html\" title=\"view Java Movie\">\n",
      "1996/01/22\n",
      "</a>\n",
      "</td>, <td headers=\"hd_date_time\">\n",
      "<a href=\"yht/19960122.031101.w037n.v0267.p103g.yht\" title=\"see height-time digital file\">\n",
      "03:11:01\n",
      "</a>\n",
      "</td>, <td headers=\"hd_date_time\">\n",
      "<a href=\"jsmovies/1996_01/19960126.091619.p090g/c2_rdif.html\" title=\"view Java Movie\">\n",
      "1996/01/26\n",
      "</a>\n",
      "</td>, <td headers=\"hd_date_time\">\n",
      "<a href=\"yht/19960126.091619.w027n.v0262.p090g.yht\" title=\"see height-time digital file\">\n",
      "09:16:19\n",
      "</a>\n",
      "</td>, <td headers=\"hd_date_time\">\n",
      "<a href=\"jsmovies/1996_01/19960131.065213.p272g/c2_rdif.html\" title=\"view Java Movie\">\n",
      "1996/01/31\n",
      "</a>\n",
      "</td>, <td headers=\"hd_date_time\">\n",
      "<a href=\"yht/19960131.065213.w047n.v0158.p272g.yht\" title=\"see height-time digital file\">\n",
      "06:52:13\n",
      "</a>\n",
      "</td>]\n"
     ]
    }
   ],
   "source": [
    "url = list1[0]\n",
    "page = browser.get(url)\n",
    "page\n",
    "type(page.soup)\n",
    "#get하는거를 클래스로 만들면 될 듯\n",
    "datetime = page.soup.find_all('td', headers='hd_')\n",
    "print(datetime)"
   ]
  },
  {
   "cell_type": "code",
   "execution_count": 8,
   "metadata": {},
   "outputs": [
    {
     "ename": "SyntaxError",
     "evalue": "unexpected EOF while parsing (<ipython-input-8-d6cf9a10924a>, line 2)",
     "output_type": "error",
     "traceback": [
      "\u001b[1;36m  File \u001b[1;32m\"<ipython-input-8-d6cf9a10924a>\"\u001b[1;36m, line \u001b[1;32m2\u001b[0m\n\u001b[1;33m    def __init__(self, ):\u001b[0m\n\u001b[1;37m                         ^\u001b[0m\n\u001b[1;31mSyntaxError\u001b[0m\u001b[1;31m:\u001b[0m unexpected EOF while parsing\n"
     ]
    }
   ],
   "source": [
    "#class data():\n",
    "#    def __init__(self, ):"
   ]
  }
 ],
 "metadata": {
  "kernelspec": {
   "display_name": "Python 3",
   "language": "python",
   "name": "python3"
  },
  "language_info": {
   "codemirror_mode": {
    "name": "ipython",
    "version": 3
   },
   "file_extension": ".py",
   "mimetype": "text/x-python",
   "name": "python",
   "nbconvert_exporter": "python",
   "pygments_lexer": "ipython3",
   "version": "3.8.8"
  }
 },
 "nbformat": 4,
 "nbformat_minor": 2
}
